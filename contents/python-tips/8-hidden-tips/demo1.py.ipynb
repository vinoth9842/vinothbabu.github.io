{
 "cells": [
  {
   "cell_type": "code",
   "execution_count": null,
   "metadata": {},
   "outputs": [],
   "source": [
    "# Split string and join string elements\n",
    "#======================================\n",
    "\n",
    "a = \"my name is rangsiman\"\n",
    "a = a.split()\n",
    "print(a)\n",
    "\n",
    "b = [\"my\", \"name\", \"is\", \"rangsiman\"]\n",
    "b = \" \".join(b)\n",
    "print(b)\n",
    "\n"
   ]
  }
 ],
 "metadata": {},
 "nbformat": 4,
 "nbformat_minor": 2
}
