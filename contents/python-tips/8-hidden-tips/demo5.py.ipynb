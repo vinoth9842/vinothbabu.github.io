{
 "cells": [
  {
   "cell_type": "code",
   "execution_count": null,
   "metadata": {},
   "outputs": [],
   "source": [
    "# Using keys for sorting \n",
    "#=======================\n",
    "\n",
    "import time\n",
    "\n",
    "start = time.time()\n",
    "l = [1, -3, 6, 11, 5, 50, -43, 111, -2405] \n",
    "l.sort() \n",
    "print(l)\n",
    "print(\"Time elapsed for keys argument sorting is: \", time.time() - start)\n",
    "\n",
    "start = time.time()  \n",
    "l = [1, -3, 6, 11, 5, 50, -43, 111, -2405] \n",
    "# use sorted() if you don't want to sort in-place: \n",
    "l = sorted(l) \n",
    "print(l) \n",
    "print(\"Time elapsed for built-in sort function is: \", time.time() - start)\n",
    "\n"
   ]
  }
 ],
 "metadata": {},
 "nbformat": 4,
 "nbformat_minor": 2
}
