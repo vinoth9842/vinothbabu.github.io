{
 "cells": [
  {
   "cell_type": "code",
   "execution_count": null,
   "metadata": {},
   "outputs": [],
   "source": [
    "# Swapping variables in one line\n",
    "#===============================\n",
    "\n",
    "import time\n",
    "\n",
    "start = time.time()\n",
    "# slower \n",
    "x = 2\n",
    "y = 5\n",
    "temp = x \n",
    "x = y \n",
    "y = temp \n",
    "print(x, y) \n",
    "print(\"Time elapsed for slow swapping is:\", time.time() - start)\n",
    "\n",
    "start = time.time()\n",
    "x,y = 3,5\n",
    "# faster \n",
    "x, y = y, x \n",
    "print(x, y) \n",
    "print(\"Time elapsed for fast swapping is:\", time.time() - start)\n",
    "\n"
   ]
  }
 ],
 "metadata": {},
 "nbformat": 4,
 "nbformat_minor": 2
}
