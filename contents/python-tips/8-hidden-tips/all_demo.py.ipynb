{
 "cells": [
  {
   "cell_type": "code",
   "execution_count": 1,
   "metadata": {},
   "outputs": [
    {
     "name": "stdout",
     "output_type": "stream",
     "text": [
      "['my', 'name', 'is', 'rangsiman']\n",
      "my name is rangsiman\n"
     ]
    }
   ],
   "source": [
    "# Split string and join string elements\n",
    "#======================================\n",
    "\n",
    "a = \"my name is rangsiman\"\n",
    "a = a.split()\n",
    "print(a)\n",
    "\n",
    "b = [\"my\", \"name\", \"is\", \"rangsiman\"]\n",
    "b = \" \".join(b)\n",
    "print(b)\n",
    "\n"
   ]
  },
  {
   "cell_type": "code",
   "execution_count": 1,
   "metadata": {},
   "outputs": [
    {
     "name": "stdout",
     "output_type": "stream",
     "text": [
      "4\n"
     ]
    }
   ],
   "source": [
    "# Find the most frequent value in list\n",
    "#=====================================\n",
    "\n",
    "test = [1, 2, 3, 4, 2, 2, 3, 1, 4, 4, 4] \n",
    "print(max(set(test), key = test.count)) \n",
    "\n"
   ]
  },
  {
   "cell_type": "code",
   "execution_count": 1,
   "metadata": {},
   "outputs": [
    {
     "name": "stdout",
     "output_type": "stream",
     "text": [
      "28\n"
     ]
    }
   ],
   "source": [
    "# Check the memory usage of objects\n",
    "#==================================\n",
    "\n",
    "import sys\n",
    "\n",
    "a = 1\n",
    "x = sys.getsizeof(a)\n",
    "print(x)\n",
    "\n"
   ]
  },
  {
   "cell_type": "code",
   "execution_count": 1,
   "metadata": {},
   "outputs": [
    {
     "name": "stdout",
     "output_type": "stream",
     "text": [
      "['G', 'E', 'E', 'K', 'S']\n",
      "Time spent in function is:  0.0017406940460205078\n",
      "['G', 'E', 'E', 'K', 'S']\n",
      "Time spent in builtin function is:  0.0006742477416992188\n"
     ]
    }
   ],
   "source": [
    "# Save time while coding with map() function\n",
    "#===========================================\n",
    "\n",
    "import time \n",
    "  \n",
    "# slower (Without map()) \n",
    "start = time.time()  \n",
    "s = 'geeks'\n",
    "U = [] \n",
    "for c in s:\n",
    "    U.append(c.upper()) \n",
    "print(U) \n",
    "\n",
    "print(\"Time spent in function is: \", time.time() - start)\n",
    "\n",
    "# Faster (Uses builtin function map()) \n",
    "start = time.time()  \n",
    "s = 'geeks'\n",
    "U = list(map(str.upper, s))\n",
    "print(U) \n",
    "\n",
    "print(\"Time spent in builtin function is: \", time.time() - start)\n",
    "\n"
   ]
  },
  {
   "cell_type": "code",
   "execution_count": 1,
   "metadata": {},
   "outputs": [
    {
     "name": "stdout",
     "output_type": "stream",
     "text": [
      "[-2405, -43, -3, 1, 5, 6, 11, 50, 111]\n",
      "Time elapsed for keys argument sorting is:  0.0012128353118896484\n",
      "[-2405, -43, -3, 1, 5, 6, 11, 50, 111]\n",
      "Time elapsed for built-in sort function is:  0.0010514259338378906\n"
     ]
    }
   ],
   "source": [
    "# Using keys for sorting \n",
    "#=======================\n",
    "\n",
    "import time\n",
    "\n",
    "start = time.time()\n",
    "l = [1, -3, 6, 11, 5, 50, -43, 111, -2405] \n",
    "l.sort() \n",
    "print(l)\n",
    "print(\"Time elapsed for keys argument sorting is: \", time.time() - start)\n",
    "\n",
    "start = time.time()  \n",
    "l = [1, -3, 6, 11, 5, 50, -43, 111, -2405] \n",
    "# use sorted() if you don't want to sort in-place: \n",
    "l = sorted(l) \n",
    "print(l) \n",
    "print(\"Time elapsed for built-in sort function is: \", time.time() - start)\n",
    "\n"
   ]
  },
  {
   "cell_type": "code",
   "execution_count": 1,
   "metadata": {},
   "outputs": [
    {
     "name": "stdout",
     "output_type": "stream",
     "text": [
      "{'p': 2, 'y': 3, 't': 3, 'h': 2, 'o': 2, 'n': 2, 'i': 1, 's': 2, 'v': 1, 'e': 1, 'r': 1, 'f': 1, 'a': 1}\n",
      "Time elapsed for IF case is: 0.0005156993865966797\n",
      "{'p': 3, 'y': 5, 't': 5, 'h': 3, 'o': 3, 'n': 3, 'i': 2, 's': 4, 'v': 2, 'e': 2, 'r': 2, 'f': 2, 'a': 2}\n",
      "Time elapsed for non-IF case is: 0.00042724609375\n"
     ]
    }
   ],
   "source": [
    "# Avoid IF\n",
    "#=========\n",
    "\n",
    "import time\n",
    "\n",
    "mydict = {'p':1, 'y':1, 't':1, 'h':1, 'o':1, 'n':1}\n",
    "word = 'pythonisveryfast'\n",
    "\n",
    "start = time.time()\n",
    "for w in word:\n",
    "    if w not in mydict:\n",
    "        mydict[w] = 0\n",
    "    mydict[w] += 1\n",
    "print(mydict)\n",
    "print(\"Time elapsed for IF case is:\", time.time() - start)\n",
    "\n",
    "start = time.time()\n",
    "for w in word:\n",
    "    try:\n",
    "        mydict[w] += 1\n",
    "    except KeyError:\n",
    "        mydict[w] = 1\n",
    "\n",
    "print(mydict)\n",
    "print(\"Time elapsed for non-IF case is:\", time.time() - start)\n",
    "\n"
   ]
  },
  {
   "cell_type": "code",
   "execution_count": 1,
   "metadata": {},
   "outputs": [
    {
     "name": "stdout",
     "output_type": "stream",
     "text": [
      "5 2\n",
      "Time elapsed for slow swapping is: 0.0010149478912353516\n",
      "5 3\n",
      "Time elapsed for fast swapping is: 0.0006988048553466797\n"
     ]
    }
   ],
   "source": [
    "# Swapping variables in one line\n",
    "#===============================\n",
    "\n",
    "import time\n",
    "\n",
    "start = time.time()\n",
    "# slower \n",
    "x = 2\n",
    "y = 5\n",
    "temp = x \n",
    "x = y \n",
    "y = temp \n",
    "print(x, y) \n",
    "print(\"Time elapsed for slow swapping is:\", time.time() - start)\n",
    "\n",
    "start = time.time()\n",
    "x,y = 3,5\n",
    "# faster \n",
    "x, y = y, x \n",
    "print(x, y) \n",
    "print(\"Time elapsed for fast swapping is:\", time.time() - start)\n",
    "\n"
   ]
  },
  {
   "cell_type": "code",
   "execution_count": 1,
   "metadata": {},
   "outputs": [
    {
     "name": "stdout",
     "output_type": "stream",
     "text": [
      "0\n",
      "2\n",
      "4\n",
      "6\n",
      "8\n",
      "10\n",
      "12\n",
      "14\n",
      "16\n",
      "18\n",
      "Time elapsed for using class method is: 0.00225830078125\n",
      "0\n",
      "2\n",
      "4\n",
      "6\n",
      "8\n",
      "10\n",
      "12\n",
      "14\n",
      "16\n",
      "18\n",
      "Time elapsed for using local variable is: 0.0026235580444335938\n"
     ]
    }
   ],
   "source": [
    "# Use local variables to make code run faster\n",
    "#============================================\n",
    "\n",
    "import time\n",
    "\n",
    "class Test:\n",
    "    def func(self, x):\n",
    "        print(x + x)\n",
    "\n",
    "start = time.time()\n",
    "Obj = Test()\n",
    "n = 10\n",
    "for i in range(n):\n",
    "    Obj.func(i) \n",
    "\n",
    "print(\"Time elapsed for using class method is:\", time.time() - start)\n",
    "\n",
    "start = time.time()\n",
    "Obj = Test()\n",
    "mytest = Obj.func  # Declaring local variable\n",
    "n = 10\n",
    "for i in range(n):\n",
    "    mytest(i)  # faster than Obj.func(i)\n",
    "\n",
    "print(\"Time elapsed for using local variable is:\", time.time() - start)\n",
    "\n"
   ]
  }
 ],
 "metadata": {
  "language_info": {
   "codemirror_mode": {
    "name": "ipython",
    "version": 3
   },
   "file_extension": ".py",
   "mimetype": "text/x-python",
   "name": "python",
   "nbconvert_exporter": "python",
   "pygments_lexer": "ipython3",
   "version": "3.7.3"
  }
 },
 "nbformat": 4,
 "nbformat_minor": 2
}
