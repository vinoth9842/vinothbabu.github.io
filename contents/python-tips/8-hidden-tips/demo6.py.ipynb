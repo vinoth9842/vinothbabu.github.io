{
 "cells": [
  {
   "cell_type": "code",
   "execution_count": null,
   "metadata": {},
   "outputs": [],
   "source": [
    "# Avoid IF\n",
    "#=========\n",
    "\n",
    "import time\n",
    "\n",
    "mydict = {'p':1, 'y':1, 't':1, 'h':1, 'o':1, 'n':1}\n",
    "word = 'pythonisveryfast'\n",
    "\n",
    "start = time.time()\n",
    "for w in word:\n",
    "    if w not in mydict:\n",
    "        mydict[w] = 0\n",
    "    mydict[w] += 1\n",
    "print(mydict)\n",
    "print(\"Time elapsed for IF case is:\", time.time() - start)\n",
    "\n",
    "start = time.time()\n",
    "for w in word:\n",
    "    try:\n",
    "        mydict[w] += 1\n",
    "    except KeyError:\n",
    "        mydict[w] = 1\n",
    "\n",
    "print(mydict)\n",
    "print(\"Time elapsed for non-IF case is:\", time.time() - start)\n",
    "\n"
   ]
  }
 ],
 "metadata": {},
 "nbformat": 4,
 "nbformat_minor": 2
}
