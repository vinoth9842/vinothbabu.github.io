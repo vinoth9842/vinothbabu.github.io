{
 "cells": [
  {
   "cell_type": "code",
   "execution_count": null,
   "metadata": {},
   "outputs": [],
   "source": [
    "# Use local variables to make code run faster\n",
    "#============================================\n",
    "\n",
    "import time\n",
    "\n",
    "class Test:\n",
    "    def func(self, x):\n",
    "        print(x + x)\n",
    "\n",
    "start = time.time()\n",
    "Obj = Test()\n",
    "n = 10\n",
    "for i in range(n):\n",
    "    Obj.func(i) \n",
    "\n",
    "print(\"Time elapsed for using class method is:\", time.time() - start)\n",
    "\n",
    "start = time.time()\n",
    "Obj = Test()\n",
    "mytest = Obj.func  # Declaring local variable\n",
    "n = 10\n",
    "for i in range(n):\n",
    "    mytest(i)  # faster than Obj.func(i)\n",
    "\n",
    "print(\"Time elapsed for using local variable is:\", time.time() - start)\n",
    "\n"
   ]
  }
 ],
 "metadata": {},
 "nbformat": 4,
 "nbformat_minor": 2
}
