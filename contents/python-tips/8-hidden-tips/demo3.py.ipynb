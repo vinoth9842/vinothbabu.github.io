{
 "cells": [
  {
   "cell_type": "code",
   "execution_count": null,
   "metadata": {},
   "outputs": [],
   "source": [
    "# Check the memory usage of objects\n",
    "#==================================\n",
    "\n",
    "import sys\n",
    "\n",
    "a = 1\n",
    "x = sys.getsizeof(a)\n",
    "print(x)\n",
    "\n"
   ]
  }
 ],
 "metadata": {},
 "nbformat": 4,
 "nbformat_minor": 2
}
