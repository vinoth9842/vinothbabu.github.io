{
 "cells": [
  {
   "cell_type": "code",
   "execution_count": null,
   "metadata": {},
   "outputs": [],
   "source": [
    "# Save time while coding with map() function\n",
    "#===========================================\n",
    "\n",
    "import time \n",
    "  \n",
    "# slower (Without map()) \n",
    "start = time.time()  \n",
    "s = 'geeks'\n",
    "U = [] \n",
    "for c in s:\n",
    "    U.append(c.upper()) \n",
    "print(U) \n",
    "\n",
    "print(\"Time spent in function is: \", time.time() - start)\n",
    "\n",
    "# Faster (Uses builtin function map()) \n",
    "start = time.time()  \n",
    "s = 'geeks'\n",
    "U = list(map(str.upper, s))\n",
    "print(U) \n",
    "\n",
    "print(\"Time spent in builtin function is: \", time.time() - start)\n",
    "\n"
   ]
  }
 ],
 "metadata": {},
 "nbformat": 4,
 "nbformat_minor": 2
}
